{
 "cells": [
  {
   "cell_type": "markdown",
   "id": "c8f5c300",
   "metadata": {},
   "source": [
    "## Question 01 - How can you create a Bokeh plot using Python code?"
   ]
  },
  {
   "cell_type": "markdown",
   "id": "ca95d56b",
   "metadata": {},
   "source": [
    "# Answer :-\n",
    "\n",
    "Bokeh is a Python library that allows you to create interactive data visualizations for modern web browsers. Here is an example of how to create a Bokeh plot using Python code:"
   ]
  },
  {
   "cell_type": "code",
   "execution_count": 2,
   "id": "5f686eb3",
   "metadata": {},
   "outputs": [],
   "source": [
    "# Importing the necessary libraries\n",
    "from bokeh.plotting import figure, output_file, show\n",
    "\n",
    "# Generating some sample data\n",
    "x = [1, 2, 3, 4, 5]\n",
    "y = [6, 7, 2, 4, 5]\n",
    "\n",
    "# Creating a Bokeh figure\n",
    "p = figure(title=\"Example Bokeh plot\", x_axis_label='X-axis', y_axis_label='Y-axis')\n",
    "\n",
    "# Adding data to the figure\n",
    "p.line(x, y, legend_label=\"Line\", line_width=2)\n",
    "p.circle(x, y, legend_label=\"Circle\", fill_color=\"white\", size=8)"
   ]
  },
  {
   "cell_type": "code",
   "execution_count": 5,
   "id": "199fbcca",
   "metadata": {},
   "outputs": [],
   "source": [
    "# Displaying the plot\n",
    "show(p)"
   ]
  },
  {
   "cell_type": "markdown",
   "id": "ecf1ce23",
   "metadata": {},
   "source": [
    "In this example, we first import the necessary libraries. We then generate some sample data and create a Bokeh figure with a title and axis labels. We add data to the figure using p.line and p.circle functions. Finally, we save the output to an HTML file and display the plot using the show function. You can modify this code to create your own Bokeh plot with your own data and settings."
   ]
  },
  {
   "cell_type": "markdown",
   "id": "c7a6b33e",
   "metadata": {},
   "source": [
    "## Question 02 - What are glyphs in Bokeh, and how can you add them to a Bokeh plot? Explain with an example."
   ]
  },
  {
   "cell_type": "markdown",
   "id": "5610d73e",
   "metadata": {},
   "source": [
    "## Answer :-\n",
    "\n",
    "In Bokeh, glyphs are graphical representations of data points, such as circles, squares, lines, and bars. You can add glyphs to a Bokeh plot using the p.circle, p.square, p.line, p.vbar, p.hbar, and other similar functions. These functions take in the data to be plotted as well as any additional properties, such as the color, size, and line width of the glyphs."
   ]
  },
  {
   "cell_type": "code",
   "execution_count": 6,
   "id": "db77e677",
   "metadata": {},
   "outputs": [],
   "source": [
    "# Importing the necessary libraries\n",
    "from bokeh.plotting import figure, output_file, show\n",
    "\n",
    "# Generating some sample data\n",
    "x = [1, 2, 3, 4, 5]\n",
    "y = [6, 7, 2, 4, 5]\n",
    "\n",
    "# Creating a Bokeh figure\n",
    "p = figure(title=\"Example Bokeh plot\", x_axis_label='X-axis', y_axis_label='Y-axis')\n",
    "\n",
    "# Adding circles to the figure\n",
    "p.circle(x, y, size=10, color=\"navy\", alpha=0.5)\n",
    "\n",
    "# Saving the output to an HTML file\n",
    "output_file(\"example.html\")\n",
    "\n",
    "# Displaying the plot\n",
    "show(p)"
   ]
  },
  {
   "cell_type": "markdown",
   "id": "d2068ff1",
   "metadata": {},
   "source": [
    "In Bokeh, glyphs are graphical representations of data points, such as circles, squares, lines, and bars. You can add glyphs to a Bokeh plot using the p.circle, p.square, p.line, p.vbar, p.hbar, and other similar functions. These functions take in the data to be plotted as well as any additional properties, such as the color, size, and line width of the glyphs."
   ]
  },
  {
   "cell_type": "markdown",
   "id": "8f6316ed",
   "metadata": {},
   "source": [
    "## Question 03 - How can you customize the appearance of a Bokeh plot, including the axes, title, and legend?"
   ]
  },
  {
   "cell_type": "markdown",
   "id": "db2d30ad",
   "metadata": {},
   "source": [
    "## Answer :-\n",
    "\n",
    "Bokeh provides many options for customizing the appearance of a plot, including the axes, title, and legend"
   ]
  },
  {
   "cell_type": "code",
   "execution_count": 7,
   "id": "b7769300",
   "metadata": {},
   "outputs": [],
   "source": [
    "# Importing the necessary libraries\n",
    "from bokeh.plotting import figure, output_file, show\n",
    "\n",
    "# Generating some sample data\n",
    "x = [1, 2, 3, 4, 5]\n",
    "y = [6, 7, 2, 4, 5]\n",
    "\n",
    "# Creating a Bokeh figure with customizations\n",
    "p = figure(title=\"Example Bokeh plot\", x_axis_label='X-axis', y_axis_label='Y-axis', \n",
    "           plot_width=800, plot_height=400, toolbar_location=\"above\")\n",
    "\n",
    "# Adding data to the figure\n",
    "p.line(x, y, legend_label=\"Line\", line_width=2, color=\"red\")\n",
    "p.circle(x, y, legend_label=\"Circle\", fill_color=\"white\", size=8)\n",
    "\n",
    "# Customizing the axes\n",
    "p.xaxis.axis_label_text_font_style = \"italic\"\n",
    "p.yaxis.axis_label_text_font_style = \"italic\"\n",
    "p.xaxis.axis_label_text_font_size = \"16pt\"\n",
    "p.yaxis.axis_label_text_font_size = \"16pt\"\n",
    "p.xaxis.major_label_text_font_size = \"14pt\"\n",
    "p.yaxis.major_label_text_font_size = \"14pt\"\n",
    "\n",
    "# Customizing the legend\n",
    "p.legend.title = \"Data Type\"\n",
    "p.legend.location = \"top_left\"\n",
    "p.legend.label_text_font_size = \"12pt\"\n",
    "\n",
    "# Customizing the title\n",
    "p.title.text_font_size = \"20pt\"\n",
    "\n",
    "# Saving the output to an HTML file\n",
    "output_file(\"example.html\")\n",
    "\n",
    "# Displaying the plot\n",
    "show(p)"
   ]
  },
  {
   "cell_type": "markdown",
   "id": "27c43292",
   "metadata": {},
   "source": [
    "In this example, we first generate some sample data and create a Bokeh figure with customizations, such as a title, axis labels, and dimensions. We add data to the figure using p.line and p.circle functions, and customize their appearance using parameters such as legend_label, fill_color, and size. We then customize the axes using properties such as axis_label_text_font_style and axis_label_text_font_size. We also customize the legend using properties such as title, location, and label_text_font_size. Finally, we customize the title using the text_font_size property.\n",
    "\n",
    "You can modify this code to customize the appearance of your own Bokeh plot with your desired settings. Bokeh provides a wide range of options for customizing the appearance of your plots, so you can make them look exactly the way you want."
   ]
  },
  {
   "cell_type": "markdown",
   "id": "29121cdb",
   "metadata": {},
   "source": [
    "## Question 04 - What is a Bokeh server, and how can you use it to create interactive plots that can be updated in real time?"
   ]
  },
  {
   "cell_type": "markdown",
   "id": "eaf9e93b",
   "metadata": {},
   "source": [
    "## Answer :-\n",
    "\n",
    "Bokeh is a Python library for creating interactive data visualizations in web browsers. The Bokeh server is a component of Bokeh that allows you to build and serve interactive plots and applications that can be updated in real-time.\n",
    "\n",
    "The Bokeh server is a Python process that runs on a server and serves Bokeh documents to web browsers. Bokeh documents are created using the Bokeh Python library and contain one or more plots, widgets, and other interactive components. The Bokeh server allows these components to be updated in real-time in response to user interactions or changes in data.\n",
    "\n",
    "To create a Bokeh server application, you first define a Bokeh document containing the desired plots and widgets. You then run the Bokeh server process and pass it the document. The server will then serve the document to one or more web browsers, allowing users to interact with the plots and widgets.\n",
    "\n",
    "To update the plots and widgets in real-time, you can use Bokeh's reactive programming model. This involves defining Python functions that are called whenever the state of the application changes (for example, when a widget value is changed). These functions can then update the data or properties of the plots and widgets, causing them to be redrawn in the web browser.\n",
    "\n",
    "Overall, the Bokeh server provides a powerful and flexible way to create interactive data visualizations and applications that can be updated in real-time."
   ]
  },
  {
   "cell_type": "markdown",
   "id": "ae03ab5a",
   "metadata": {},
   "source": [
    "## Question 05 - How can you embed a Bokeh plot into a web page or dashboard using Flask or Django?"
   ]
  },
  {
   "cell_type": "markdown",
   "id": "791d8da5",
   "metadata": {},
   "source": [
    "# Answer :-\n",
    "\n",
    "Embedding a Bokeh plot into a web page or dashboard using Flask or Django involves several steps. Here is a general overview of the process:\n",
    "\n",
    "1. Create a Bokeh plot using the Bokeh Python library.\n",
    "2. Save the plot to an HTML file using the bokeh.embed module's file_html function.\n",
    "3. Create a Flask or Django view that will render the HTML file containing the Bokeh plot.\n",
    "4. In the view function, call the file_html function with the Bokeh plot object and any additional parameters (such as the title of the plot).\n",
    "5. Pass the resulting HTML string to the template engine to render the web page or dashboard."
   ]
  },
  {
   "cell_type": "code",
   "execution_count": 8,
   "id": "54a9deeb",
   "metadata": {},
   "outputs": [],
   "source": [
    "from flask import render_template\n",
    "from bokeh.plotting import figure\n",
    "from bokeh.embed import file_html\n",
    "\n",
    "def bokeh_plot():\n",
    "    # Create a Bokeh plot\n",
    "    p = figure(title=\"My Bokeh Plot\", x_axis_label='x', y_axis_label='y')\n",
    "    p.line([1, 2, 3, 4, 5], [6, 7, 2, 4, 5])\n",
    "\n",
    "    # Embed the plot in an HTML file\n",
    "    html = file_html(p, CDN, \"My Bokeh Plot\")\n",
    "\n",
    "    # Render the template with the Bokeh plot\n",
    "    return render_template('bokeh_plot.html', plot=html)\n"
   ]
  },
  {
   "cell_type": "markdown",
   "id": "361dd73c",
   "metadata": {},
   "source": [
    "In this example, the file_html function is called with the Bokeh plot object p, the CDN argument (which specifies the location of Bokeh's JavaScript and CSS files), and the title of the plot. The resulting HTML string is then passed to the template engine to render the bokeh_plot.html template, which could look something like this:"
   ]
  },
  {
   "cell_type": "code",
   "execution_count": null,
   "id": "e6784995",
   "metadata": {},
   "outputs": [],
   "source": []
  }
 ],
 "metadata": {
  "kernelspec": {
   "display_name": "Python 3 (ipykernel)",
   "language": "python",
   "name": "python3"
  },
  "language_info": {
   "codemirror_mode": {
    "name": "ipython",
    "version": 3
   },
   "file_extension": ".py",
   "mimetype": "text/x-python",
   "name": "python",
   "nbconvert_exporter": "python",
   "pygments_lexer": "ipython3",
   "version": "3.9.12"
  }
 },
 "nbformat": 4,
 "nbformat_minor": 5
}
